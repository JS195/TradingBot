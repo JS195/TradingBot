{
 "cells": [
  {
   "cell_type": "code",
   "execution_count": 1,
   "metadata": {},
   "outputs": [],
   "source": [
    "import pandas as pd\n",
    "from sklearn.preprocessing import MinMaxScaler, StandardScaler, RobustScaler\n",
    "\n",
    "# Calculate the percentage change of the data\n",
    "def calculate_percentage_change(data):\n",
    "    data['open'] = data['open'].pct_change()\n",
    "    data['high'] = data['high'].pct_change()\n",
    "    data['low'] = data['low'].pct_change()\n",
    "    data['close'] = data['close'].pct_change()\n",
    "    data['volume'] = data['volume'].pct_change()\n",
    "\n",
    "    data.dropna(inplace=True)\n",
    "    return data\n",
    "\n",
    "#percent_data = calculate_percentage_change(get_data)"
   ]
  },
  {
   "cell_type": "code",
   "execution_count": 2,
   "metadata": {},
   "outputs": [],
   "source": [
    "# Scale the data\n",
    "\n",
    "def scale_data(dataframe):\n",
    "    scaler = MinMaxScaler()\n",
    "    dataframe_scaled = pd.DataFrame(scaler.fit_transform(dataframe), columns=dataframe.columns, index=dataframe.index)\n",
    "    return dataframe_scaled\n",
    "\n",
    "# dataframe_scaled = scale_data(percent_data)"
   ]
  },
  {
   "cell_type": "code",
   "execution_count": 3,
   "metadata": {},
   "outputs": [],
   "source": [
    "# Train, test and validation split\n",
    "def train_test_val_split(dataframe_scaled, train_ratio=0.8, val_ratio=0.1):\n",
    "    train_end = int(train_ratio * len(dataframe_scaled))\n",
    "    val_end = int((train_ratio + val_ratio) * len(dataframe_scaled))\n",
    "\n",
    "    df_train = dataframe_scaled.iloc[:train_end]\n",
    "    df_val = dataframe_scaled.iloc[train_end:val_end]\n",
    "    df_test = dataframe_scaled.iloc[val_end:]\n",
    "\n",
    "    return df_train, df_val, df_test\n",
    "\n",
    "# df_train, df_val, df_test = train_test_val_split(dataframe_scaled, train_ratio=0.8, val_ratio=0.1)"
   ]
  }
 ],
 "metadata": {
  "kernelspec": {
   "display_name": "introtoai",
   "language": "python",
   "name": "python3"
  },
  "language_info": {
   "codemirror_mode": {
    "name": "ipython",
    "version": 3
   },
   "file_extension": ".py",
   "mimetype": "text/x-python",
   "name": "python",
   "nbconvert_exporter": "python",
   "pygments_lexer": "ipython3",
   "version": "3.10.4"
  },
  "orig_nbformat": 4
 },
 "nbformat": 4,
 "nbformat_minor": 2
}

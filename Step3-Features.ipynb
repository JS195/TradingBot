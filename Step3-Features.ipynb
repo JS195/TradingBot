{
 "cells": [
  {
   "cell_type": "code",
   "execution_count": 58,
   "metadata": {},
   "outputs": [
    {
     "name": "stdout",
     "output_type": "stream",
     "text": [
      "[*********************100%***********************]  1 of 1 completed\n"
     ]
    }
   ],
   "source": [
    "import yfinance as yf\n",
    "import pandas as pd\n",
    "import numpy as np\n",
    "\n",
    "df = yf.download(\"EURGBP=X\", start=\"2023-04-01\", end=\"2023-07-09\", interval=\"1d\")"
   ]
  },
  {
   "cell_type": "code",
   "execution_count": 42,
   "metadata": {},
   "outputs": [],
   "source": [
    "# Relative strength index manually\n",
    "\n",
    "def rsi(df, periods = 14):\n",
    "    close_delta = df['Close'].diff()\n",
    "    up = close_delta.clip(lower=0)\n",
    "    down = -1 * close_delta.clip(upper=0)\n",
    "    ma_up = up.ewm(com = periods - 1, adjust=True, min_periods = periods).mean()\n",
    "    ma_down = down.ewm(com = periods - 1, adjust=True, min_periods = periods).mean()\n",
    "    rsi = ma_up / ma_down\n",
    "    rsi = 100 - (100/(1 + rsi))\n",
    "    return rsi\n",
    "\n",
    "# rsi_values = rsi(df, 14)"
   ]
  },
  {
   "cell_type": "code",
   "execution_count": 43,
   "metadata": {},
   "outputs": [],
   "source": [
    "# Commodity channel index\n",
    "\n",
    "def calculate_cci(dataframe, period=20):\n",
    "    typical_price = (dataframe['High'] + dataframe['Low'] + dataframe['Close']) / 3\n",
    "    mean_deviation = typical_price.rolling(window=period).apply(lambda x: np.fabs(x - x.mean()).mean(), raw=True)\n",
    "    cci = (typical_price - typical_price.rolling(window=period).mean()) / (0.015 * mean_deviation)\n",
    "    return cci\n",
    "\n",
    "#cci_values=calculate_cci(df, 20)"
   ]
  },
  {
   "cell_type": "code",
   "execution_count": 44,
   "metadata": {},
   "outputs": [],
   "source": [
    "# Average true range\n",
    "\n",
    "def calculate_atr(dataframe, period=14):\n",
    "    high = dataframe['High']\n",
    "    low = dataframe['Low']\n",
    "    close = dataframe['Close']\n",
    "    tr1 = high - low\n",
    "    tr2 = abs(high - close.shift())\n",
    "    tr3 = abs(low - close.shift())\n",
    "    tr = pd.concat([tr1, tr2, tr3], axis=1).max(axis=1)\n",
    "    atr = tr.ewm(span=period, adjust=False).mean()\n",
    "    return atr\n",
    "\n",
    "#atr_values=calculate_atr(df, 14)"
   ]
  },
  {
   "cell_type": "code",
   "execution_count": 59,
   "metadata": {},
   "outputs": [],
   "source": [
    "# Using pandas technical indicators lib\n",
    "\n",
    "import pandas_ta as ta\n",
    "\n",
    "df[\"RSI\"] = ta.rsi(df.Close, length=14)\n",
    "\n",
    "df[\"CCI\"] = ta.cci(df.High, df.Low, df.Close, length=14)\n",
    "\n",
    "df[\"ATR\"] = ta.atr(df.High, df.Low, df.Close, length=14)\n",
    "\n",
    "df[\"AO\"] = ta.ao(df.High, df.Low)\n",
    "\n",
    "df[\"MOM\"] = ta.mom(df.Close, length=14)\n",
    "\n",
    "def cal_macd(df):\n",
    "    macd = ta.macd(df.Close)\n",
    "    df = df.join(macd)\n",
    "    return df\n",
    "\n",
    "\n"
   ]
  }
 ],
 "metadata": {
  "kernelspec": {
   "display_name": "introtoai",
   "language": "python",
   "name": "python3"
  },
  "language_info": {
   "codemirror_mode": {
    "name": "ipython",
    "version": 3
   },
   "file_extension": ".py",
   "mimetype": "text/x-python",
   "name": "python",
   "nbconvert_exporter": "python",
   "pygments_lexer": "ipython3",
   "version": "3.10.4"
  },
  "orig_nbformat": 4
 },
 "nbformat": 4,
 "nbformat_minor": 2
}

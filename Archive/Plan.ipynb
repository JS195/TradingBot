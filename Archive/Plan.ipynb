{
 "cells": [
  {
   "cell_type": "code",
   "execution_count": null,
   "metadata": {},
   "outputs": [],
   "source": [
    "# Step 1\n",
    "# Analyse previous data to identify patterns\n",
    "\n",
    "# Step 2\n",
    "# Create a model based on the data\n",
    "\n",
    "#Step 3\n",
    "# Model makes one trade every 2 hrs and has the option to hold, sell or buy"
   ]
  }
 ],
 "metadata": {
  "language_info": {
   "name": "python"
  },
  "orig_nbformat": 4
 },
 "nbformat": 4,
 "nbformat_minor": 2
}

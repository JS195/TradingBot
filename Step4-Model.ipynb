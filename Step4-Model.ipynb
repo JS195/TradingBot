{
 "cells": [
  {
   "cell_type": "code",
   "execution_count": null,
   "metadata": {},
   "outputs": [],
   "source": [
    "from xgboost import XGBClassifier\n",
    "from sklearn.metrics import accuracy_score, log_loss\n",
    "from sklearn.model_selection import train_test_split\n",
    "\n",
    "attributes = [\"RSI\", \"CCI\", \"ATR\", \"AO\", \"MOM\", \"MACD_12_26_9\", \"MACh_12_26_9\", \"MACDs_12_26_9\", \"BOP\"]\n",
    "\n",
    "X = df[attributes]\n",
    "y = df[\"Target\"]\n",
    "\n",
    "X_train, X_test, y_train, y_test = train_test_split(X, y, test_size=0.2, shuffle=False)\n",
    "\n"
   ]
  }
 ],
 "metadata": {
  "language_info": {
   "name": "python"
  },
  "orig_nbformat": 4
 },
 "nbformat": 4,
 "nbformat_minor": 2
}

{
 "cells": [
  {
   "cell_type": "code",
   "execution_count": 99,
   "metadata": {},
   "outputs": [],
   "source": [
    "API = \"api-fxpractice.oanda.com\"\n",
    "STREAM_API = \"stream-fxpractice.oanda.com\"\n",
    "ACCESS_TOKEN = \"06a31b21abc8fb4cbe9bbd8c5b7b1f4e-260aefea008b878b6bffbfebafc84b9f\"\n",
    "ACCOUNT_ID = \"101-004-26291813-001\""
   ]
  },
  {
   "cell_type": "code",
   "execution_count": 14,
   "metadata": {},
   "outputs": [
    {
     "data": {
      "text/plain": [
       "{'time': '2023-07-10T10:41:37.914724736Z',\n",
       " 'prices': [{'type': 'PRICE',\n",
       "   'time': '2023-07-10T10:41:36.975613333Z',\n",
       "   'bids': [{'price': '1503.267', 'liquidity': 2000}],\n",
       "   'asks': [{'price': '1503.545', 'liquidity': 2000}],\n",
       "   'closeoutBid': '1503.267',\n",
       "   'closeoutAsk': '1503.545',\n",
       "   'status': 'tradeable',\n",
       "   'tradeable': True,\n",
       "   'quoteHomeConversionFactors': {'positiveUnits': '1.00000000',\n",
       "    'negativeUnits': '1.00000000'},\n",
       "   'instrument': 'XAU_GBP'}]}"
      ]
     },
     "execution_count": 14,
     "metadata": {},
     "output_type": "execute_result"
    }
   ],
   "source": [
    "import requests\n",
    "import json\n",
    "import pandas as pd\n",
    "import numpy as np\n",
    "\n",
    "PRICING_PATH = f\"/v3/accounts/{ACCOUNT_ID}/pricing\"\n",
    "\n",
    "query = {\"instruments\": \"XAU_GBP\"}\n",
    "headers = {\"Authorization\": \"Bearer \" + ACCESS_TOKEN}\n",
    "response = requests.get(\"https://\" + API + PRICING_PATH, headers=headers, params=query)\n",
    "response.json()"
   ]
  },
  {
   "cell_type": "code",
   "execution_count": 25,
   "metadata": {},
   "outputs": [
    {
     "data": {
      "text/plain": [
       "(Timestamp('2023-07-10 11:02:30.552317152+0000', tz='UTC'), 1504.119)"
      ]
     },
     "execution_count": 25,
     "metadata": {},
     "output_type": "execute_result"
    }
   ],
   "source": [
    "# Creating a function to get the pricing information\n",
    "\n",
    "def get_pricing(instrument):\n",
    "    query = {\"instruments\": instrument}\n",
    "    response = requests.get(\"https://\" + API + PRICING_PATH, headers=headers, params=query)\n",
    "    json_response = response.json()\n",
    "\n",
    "    prices = json_response[\"prices\"][0][\"asks\"][0][\"price\"]\n",
    "    prices = float(prices)\n",
    "\n",
    "    time_string = json_response[\"time\"]\n",
    "    time = pd.to_datetime(time_string)\n",
    "    return time, prices\n",
    "\n",
    "get_pricing(\"XAU_GBP\")"
   ]
  },
  {
   "cell_type": "code",
   "execution_count": 155,
   "metadata": {},
   "outputs": [
    {
     "name": "stdout",
     "output_type": "stream",
     "text": [
      "window start: 1688169600.0, window end: 1688947200.0\n"
     ]
    }
   ],
   "source": [
    "# Get the historical data\n",
    "\n",
    "import time \n",
    "\n",
    "# Time format is year, month, day\n",
    "from_time = time.mktime(pd.to_datetime(\"2023-07-1-00-00-00\").timetuple())\n",
    "to_time = time.mktime(pd.to_datetime(\"2023-07-10-00-00-00\").timetuple())\n",
    "print(f\"window start: {from_time}, window end: {to_time}\")"
   ]
  },
  {
   "cell_type": "code",
   "execution_count": 164,
   "metadata": {},
   "outputs": [
    {
     "data": {
      "text/html": [
       "<div>\n",
       "<style scoped>\n",
       "    .dataframe tbody tr th:only-of-type {\n",
       "        vertical-align: middle;\n",
       "    }\n",
       "\n",
       "    .dataframe tbody tr th {\n",
       "        vertical-align: top;\n",
       "    }\n",
       "\n",
       "    .dataframe thead th {\n",
       "        text-align: right;\n",
       "    }\n",
       "</style>\n",
       "<table border=\"1\" class=\"dataframe\">\n",
       "  <thead>\n",
       "    <tr style=\"text-align: right;\">\n",
       "      <th></th>\n",
       "      <th>close</th>\n",
       "      <th>high</th>\n",
       "      <th>low</th>\n",
       "      <th>open</th>\n",
       "    </tr>\n",
       "  </thead>\n",
       "  <tbody>\n",
       "    <tr>\n",
       "      <th>2023-07-02 22:10:00+00:00</th>\n",
       "      <td>1510.958</td>\n",
       "      <td>1511.306</td>\n",
       "      <td>1510.656</td>\n",
       "      <td>1510.782</td>\n",
       "    </tr>\n",
       "    <tr>\n",
       "      <th>2023-07-02 22:15:00+00:00</th>\n",
       "      <td>1510.974</td>\n",
       "      <td>1511.061</td>\n",
       "      <td>1510.681</td>\n",
       "      <td>1510.958</td>\n",
       "    </tr>\n",
       "    <tr>\n",
       "      <th>2023-07-02 22:20:00+00:00</th>\n",
       "      <td>1510.740</td>\n",
       "      <td>1511.132</td>\n",
       "      <td>1510.684</td>\n",
       "      <td>1511.010</td>\n",
       "    </tr>\n",
       "    <tr>\n",
       "      <th>2023-07-02 22:25:00+00:00</th>\n",
       "      <td>1510.796</td>\n",
       "      <td>1510.942</td>\n",
       "      <td>1510.728</td>\n",
       "      <td>1510.739</td>\n",
       "    </tr>\n",
       "    <tr>\n",
       "      <th>2023-07-02 22:30:00+00:00</th>\n",
       "      <td>1510.833</td>\n",
       "      <td>1511.048</td>\n",
       "      <td>1510.811</td>\n",
       "      <td>1510.835</td>\n",
       "    </tr>\n",
       "    <tr>\n",
       "      <th>...</th>\n",
       "      <td>...</td>\n",
       "      <td>...</td>\n",
       "      <td>...</td>\n",
       "      <td>...</td>\n",
       "    </tr>\n",
       "    <tr>\n",
       "      <th>2023-07-09 23:35:00+00:00</th>\n",
       "      <td>1499.738</td>\n",
       "      <td>1499.738</td>\n",
       "      <td>1499.346</td>\n",
       "      <td>1499.392</td>\n",
       "    </tr>\n",
       "    <tr>\n",
       "      <th>2023-07-09 23:40:00+00:00</th>\n",
       "      <td>1499.704</td>\n",
       "      <td>1499.934</td>\n",
       "      <td>1499.612</td>\n",
       "      <td>1499.708</td>\n",
       "    </tr>\n",
       "    <tr>\n",
       "      <th>2023-07-09 23:45:00+00:00</th>\n",
       "      <td>1499.644</td>\n",
       "      <td>1500.048</td>\n",
       "      <td>1499.554</td>\n",
       "      <td>1499.664</td>\n",
       "    </tr>\n",
       "    <tr>\n",
       "      <th>2023-07-09 23:50:00+00:00</th>\n",
       "      <td>1499.446</td>\n",
       "      <td>1499.674</td>\n",
       "      <td>1499.376</td>\n",
       "      <td>1499.566</td>\n",
       "    </tr>\n",
       "    <tr>\n",
       "      <th>2023-07-09 23:55:00+00:00</th>\n",
       "      <td>1499.458</td>\n",
       "      <td>1499.522</td>\n",
       "      <td>1499.294</td>\n",
       "      <td>1499.418</td>\n",
       "    </tr>\n",
       "  </tbody>\n",
       "</table>\n",
       "<p>1362 rows × 4 columns</p>\n",
       "</div>"
      ],
      "text/plain": [
       "                              close      high       low      open\n",
       "2023-07-02 22:10:00+00:00  1510.958  1511.306  1510.656  1510.782\n",
       "2023-07-02 22:15:00+00:00  1510.974  1511.061  1510.681  1510.958\n",
       "2023-07-02 22:20:00+00:00  1510.740  1511.132  1510.684  1511.010\n",
       "2023-07-02 22:25:00+00:00  1510.796  1510.942  1510.728  1510.739\n",
       "2023-07-02 22:30:00+00:00  1510.833  1511.048  1510.811  1510.835\n",
       "...                             ...       ...       ...       ...\n",
       "2023-07-09 23:35:00+00:00  1499.738  1499.738  1499.346  1499.392\n",
       "2023-07-09 23:40:00+00:00  1499.704  1499.934  1499.612  1499.708\n",
       "2023-07-09 23:45:00+00:00  1499.644  1500.048  1499.554  1499.664\n",
       "2023-07-09 23:50:00+00:00  1499.446  1499.674  1499.376  1499.566\n",
       "2023-07-09 23:55:00+00:00  1499.458  1499.522  1499.294  1499.418\n",
       "\n",
       "[1362 rows x 4 columns]"
      ]
     },
     "execution_count": 164,
     "metadata": {},
     "output_type": "execute_result"
    }
   ],
   "source": [
    "header = {\"Authorization\": \"Bearer \" + ACCESS_TOKEN}\n",
    "# Granularity is limited for the amount of data available, no more than 3000 entries give or take\n",
    "query = {\"from\": from_time, \"to\": to_time, \"granularity\": \"M5\"}\n",
    "\n",
    "INSTRUMENT = \"XAU_GBP\"\n",
    "CANDLES_PATH = f\"/v3/accounts/{ACCOUNT_ID}/instruments/{INSTRUMENT}/candles\"\n",
    "\n",
    "response = requests.get(\"https://\" + API + CANDLES_PATH, headers=header, params=query)\n",
    "\n",
    "def json_to_pd(json):\n",
    "    json_file = json.json()\n",
    "    price_json = json_file[\"candles\"]\n",
    "    times = []\n",
    "    close_price, high_price, low_price, open_price = [], [], [], []\n",
    "\n",
    "    for candle in price_json:\n",
    "        times.append(candle[\"time\"])\n",
    "        close_price.append(float(candle[\"mid\"][\"c\"]))\n",
    "        high_price.append(float(candle[\"mid\"][\"h\"]))\n",
    "        low_price.append(float(candle[\"mid\"][\"l\"]))\n",
    "        open_price.append(float(candle[\"mid\"][\"o\"]))\n",
    "    \n",
    "    dataframe = pd.DataFrame({\"close\": close_price, \"high\": high_price, \"low\": low_price, \"open\": open_price})\n",
    "    dataframe.index = pd.to_datetime(times)\n",
    "    return dataframe\n",
    "\n",
    "get_data = json_to_pd(response)\n",
    "get_data\n"
   ]
  },
  {
   "cell_type": "code",
   "execution_count": 165,
   "metadata": {},
   "outputs": [
    {
     "name": "stdout",
     "output_type": "stream",
     "text": [
      "[0, 0, 1, 0, 0, 2, 0, 0, 0, 0, 0, 0, 0, 0, 0, 0, 0, 1, 0, 0, 2, 0, 0, 0, 0, 0, 1, 0, 0, 0, 0, 0, 0, 0, 0, 1, 0, 0, 0, 0, 0, 0, 0, 0, 0, 0, 0, 0, 1, 0, 0, 0, 0, 0, 0, 0, 0, 0, 0, 0, 0, 0, 0, 0, 0, 0, 0, 0, 0, 0, 1, 0, 0, 0, 0, 0, 0, 0, 0, 0, 0, 0, 0, 0, 0, 2, 0, 0, 0, 0, 0, 0, 0, 1, 0, 0, 0, 1, 0, 0, 0, 0, 0, 0, 0, 2, 0, 0, 0, 0, 0, 0, 0, 1, 0, 2, 0, 0, 0, 0, 0, 0, 0, 0, 0, 0, 0, 0, 0, 0, 0, 0, 2, 0, 0, 0, 2, 0, 1, 0, 2, 0, 0, 0, 0, 0, 0, 0, 0, 2, 0, 2, 0, 0, 0, 0, 0, 0, 0, 0, 0, 2, 0, 0, 0, 0, 0, 1, 0, 0, 0, 0, 0, 0, 0, 0, 0, 0, 0, 0, 0, 0, 0, 0, 0, 0, 0, 2, 0, 0, 0, 0, 0, 0, 0, 0, 2, 0, 2, 0, 0, 0, 0, 0, 0, 0, 0, 0, 0, 0, 0, 0, 0, 0, 0, 0, 0, 0, 0, 0, 0, 0, 0, 0, 0, 1, 0, 0, 0, 1, 0, 0, 0, 0, 0, 0, 2, 0, 0, 0, 0, 1, 0, 0, 0, 0, 1, 0, 0, 0, 0, 0, 2, 0, 0, 0, 0, 0, 0, 0, 0, 0, 1, 0, 0, 0, 0, 0, 0, 0, 0, 0, 0, 0, 0, 0, 0, 0, 0, 1, 0, 0, 0, 2, 0, 0, 1, 0, 0, 0, 0, 0, 0, 0, 0, 0, 0, 0, 2, 0, 0, 0, 0, 0, 0, 0, 0, 0, 0, 0, 0, 0, 0, 0, 0, 0, 0, 0, 0, 0, 0, 0, 0, 0, 0, 0, 0, 0, 0, 0, 1, 0, 2, 0, 0, 0, 0, 0, 0, 0, 1, 0, 0, 0, 0, 0, 0, 2, 0, 0, 0, 0, 0, 0, 0, 0, 0, 1, 0, 0, 0, 2, 1, 0, 0, 2, 0, 0, 0, 0, 0, 0, 0, 0, 0, 1, 0, 2, 0, 0, 0, 0, 0, 0, 0, 0, 0, 0, 0, 2, 0, 0, 0, 0, 0, 0, 0, 0, 0, 0, 0, 0, 0, 0, 0, 0, 0, 0, 0, 0, 0, 0, 0, 0, 0, 0, 0, 0, 0, 1, 0, 0, 0, 0, 0, 1, 0, 0, 0, 0, 0, 0, 0, 0, 0, 1, 0, 0, 0, 0, 0, 0, 0, 0, 0, 0, 0, 0, 0, 0, 0, 0, 0, 0, 0, 0, 0, 0, 0, 0, 0, 0, 0, 0, 0, 0, 1, 2, 0, 0, 0, 0, 0, 0, 0, 0, 0, 1, 0, 0, 0, 0, 0, 0, 0, 0, 0, 0, 0, 1, 0, 0, 0, 0, 0, 0, 0, 0, 0, 0, 0, 0, 0, 0, 0, 0, 0, 0, 0, 0, 0, 0, 1, 0, 0, 2, 0, 0, 0, 0, 2, 0, 0, 0, 0, 0, 0, 0, 0, 0, 0, 0, 0, 0, 0, 2, 0, 0, 0, 0, 1, 0, 0, 1, 0, 0, 0, 0, 0, 0, 2, 0, 0, 0, 0, 1, 0, 2, 0, 0, 0, 0, 0, 0, 0, 0, 0, 0, 0, 0, 0, 0, 0, 0, 0, 0, 0, 0, 2, 0, 0, 1, 0, 0, 1, 0, 1, 0, 0, 0, 0, 0, 1, 0, 0, 0, 0, 0, 0, 0, 0, 0, 0, 0, 1, 0, 0, 0, 0, 0, 0, 0, 0, 0, 0, 0, 0, 1, 0, 0, 0, 0, 0, 0, 0, 1, 0, 0, 0, 0, 0, 0, 0, 0, 0, 2, 0, 0, 0, 0, 0, 0, 0, 0, 0, 0, 2, 0, 0, 0, 0, 0, 0, 2, 0, 0, 0, 0, 0, 0, 0, 0, 0, 0, 2, 0, 0, 0, 0, 0, 1, 0, 0, 0, 0, 0, 0, 0, 0, 0, 0, 0, 1, 0, 0, 0, 0, 0, 0, 0, 0, 0, 1, 0, 0, 0, 0, 0, 0, 0, 0, 0, 0, 0, 0, 0, 0, 0, 0, 1, 0, 0, 0, 0, 0, 0, 0, 0, 0, 2, 0, 0, 0, 0, 0, 0, 0, 0, 0, 0, 2, 1, 0, 0, 0, 2, 0, 0, 0, 1, 0, 0, 0, 0, 0, 0, 0, 0, 0, 0, 0, 0, 0, 1, 0, 0, 0, 0, 0, 0, 0, 0, 0, 0, 1, 0, 0, 0, 0, 0, 2, 0, 0, 0, 0, 0, 1, 0, 0, 0, 2, 0, 0, 1, 0, 0, 1, 0, 0, 0, 0, 0, 0, 0, 0, 0, 0, 0, 0, 0, 0, 0, 0, 0, 0, 1, 0, 0, 0, 0, 0, 0, 0, 0, 2, 0, 0, 1, 0, 0, 0, 0, 0, 2, 0, 0, 0, 0, 0, 0, 0, 0, 2, 0, 0, 0, 0, 2, 1, 0, 0, 0, 0, 2, 0, 2, 0, 0, 0, 0, 0, 0, 0, 0, 0, 0, 0, 0, 0, 0, 2, 0, 0, 0, 0, 0, 0, 0, 1, 0, 0, 0, 0, 0, 0, 0, 2, 0, 2, 0, 2, 0, 0, 0, 0, 0, 0, 0, 0, 0, 0, 2, 0, 0, 2, 1, 0, 0, 2, 0, 0, 0, 0, 0, 0, 0, 0, 2, 0, 0, 0, 1, 0, 0, 0, 0, 0, 0, 1, 0, 0, 0, 0, 0, 0, 0, 0, 0, 0, 0, 0, 0, 0, 0, 0, 0, 0, 0, 0, 0, 0, 2, 0, 0, 0, 2, 0, 0, 0, 2, 1, 0, 0, 0, 0, 0, 0, 0, 0, 0, 0, 0, 0, 0, 0, 0, 0, 0, 0, 0, 0, 0, 0, 0, 0, 0, 0, 0, 0, 0, 0, 0, 0, 2, 0, 0, 0, 0, 0, 0, 0, 2, 0, 0, 0, 0, 0, 0, 0, 0, 0, 0, 1, 0, 0, 2, 0, 0, 0, 0, 0, 0, 0, 0, 2, 0, 0, 0, 0, 0, 0, 0, 0, 1, 0, 0, 0, 1, 2, 0, 0, 0, 0, 0, 0, 0, 1, 0, 0, 0, 2, 0, 0, 0, 0, 0, 0, 0, 0, 1, 0, 1, 0, 0, 0, 0, 0, 1, 0, 0, 0, 0, 0, 0, 0, 0, 0, 0, 0, 0, 0, 0, 0, 0, 0, 0, 0, 0, 0, 0, 0, 0, 0, 0, 0, 0, 0, 0, 0, 0, 0, 0, 0, 0, 0, 0, 0, 0, 0, 0, 0, 0, 0, 0, 0, 0, 0, 0, 0, 0, 0, 0, 0, 0, 0, 0, 0, 0, 0, 0, 0, 0, 0, 0, 0, 0, 2, 0, 0, 0, 1, 0, 0, 0, 0, 0, 0, 0, 0, 1, 0, 0, 0, 1, 0, 0, 0, 0, 0, 0, 0, 0, 0, 0, 0, 0, 0, 0, 0, 2, 0, 0, 0, 0, 0, 0, 0, 1, 0, 0, 1, 0, 0, 0, 0, 0, 0, 0, 0, 1, 0, 0, 0, 0, 0, 0, 0, 0, 0, 0, 0, 0, 0, 0, 0, 2, 0, 0, 0, 0, 0, 0, 0, 0, 0, 0, 2, 0, 0, 0, 0, 0, 1, 0, 0, 0, 0, 0, 0, 0, 0, 0, 0, 0, 0, 2, 0, 0, 0, 0, 0, 0, 0, 0, 1, 0, 0, 0, 0, 1, 0, 0, 0, 1, 0, 0, 0, 0, 0, 2, 0, 0, 0, 0, 0, 0, 0, 0, 0, 0, 1, 0, 0, 0, 0, 0, 0, 0, 0, 0, 0, 0, 0, 0, 0, 0, 0, 0, 0, 0, 2, 0, 0, 0, 1, 0, 0, 0, 0, 0, 1, 0, 0, 0, 0, 0, 0, 0, 0, 0, 0, 0, 0, 0, 1, 0, 0, 0, 0, 0, 0, 0, 0, 1, 0, 0, 0, 0, 0, 0, 0, 2, 0, 0, 0, 0, 0, 0, 0, 0, 2, 0, 0, 0, 0, 0, 0, 0, 0, 0, 0, 0, 0, 0, 0, 0, 0, 0, 0, 0, 0, 0, 0, 0, 0, 0, 0, 0, 0, 0, 0, 0]\n"
     ]
    }
   ],
   "source": [
    "# Building the signal generator\n",
    "\n",
    "def signal_generator(df):\n",
    "    signal = []\n",
    "    for index, row in df.iterrows():\n",
    "        if index == 0:\n",
    "            signal.append(0)  # No clear pattern for the first row\n",
    "            continue\n",
    "\n",
    "        open_price = row[\"open\"]\n",
    "        close_price = row[\"close\"]\n",
    "        prev_index = df.index[df.index.get_loc(index) - 1]\n",
    "        prev_row = df.loc[prev_index]\n",
    "        prev_open = prev_row[\"open\"]\n",
    "        prev_close = prev_row[\"close\"]\n",
    "\n",
    "        # Bearish\n",
    "        if (\n",
    "            open_price > close_price\n",
    "            and prev_open < prev_close\n",
    "            and close_price < prev_open\n",
    "            and open_price >= prev_close\n",
    "        ):\n",
    "            signal.append(1)\n",
    "    \n",
    "        # Bullish\n",
    "        elif (\n",
    "            open_price < close_price\n",
    "            and prev_open > prev_close\n",
    "            and close_price > prev_open\n",
    "            and open_price <= prev_close\n",
    "        ):\n",
    "            signal.append(2)\n",
    "    \n",
    "        # No clear pattern\n",
    "        else:\n",
    "            signal.append(0)\n",
    "\n",
    "    return signal\n",
    "\n",
    "signal = signal_generator(get_data)\n",
    "print(signal)"
   ]
  },
  {
   "cell_type": "code",
   "execution_count": 100,
   "metadata": {},
   "outputs": [
    {
     "name": "stdout",
     "output_type": "stream",
     "text": [
      "b'{\"type\":\"PRICE\",\"time\":\"2023-07-10T12:11:06.045638441Z\",\"bids\":[{\"price\":\"1505.512\",\"liquidity\":2000}],\"asks\":[{\"price\":\"1505.791\",\"liquidity\":2000}],\"closeoutBid\":\"1505.512\",\"closeoutAsk\":\"1505.791\",\"status\":\"tradeable\",\"tradeable\":true,\"instrument\":\"XAU_GBP\"}'\n",
      "b'{\"type\":\"PRICE\",\"time\":\"2023-07-10T12:11:14.238257038Z\",\"bids\":[{\"price\":\"1505.457\",\"liquidity\":2000}],\"asks\":[{\"price\":\"1505.736\",\"liquidity\":2000}],\"closeoutBid\":\"1505.457\",\"closeoutAsk\":\"1505.736\",\"status\":\"tradeable\",\"tradeable\":true,\"instrument\":\"XAU_GBP\"}'\n",
      "b'{\"type\":\"PRICE\",\"time\":\"2023-07-10T12:11:16.121741910Z\",\"bids\":[{\"price\":\"1505.387\",\"liquidity\":2000}],\"asks\":[{\"price\":\"1505.666\",\"liquidity\":2000}],\"closeoutBid\":\"1505.387\",\"closeoutAsk\":\"1505.666\",\"status\":\"tradeable\",\"tradeable\":true,\"instrument\":\"XAU_GBP\"}'\n",
      "b'{\"type\":\"HEARTBEAT\",\"time\":\"2023-07-10T12:11:16.860850536Z\"}'\n",
      "b'{\"type\":\"PRICE\",\"time\":\"2023-07-10T12:11:16.914723628Z\",\"bids\":[{\"price\":\"1505.356\",\"liquidity\":2000}],\"asks\":[{\"price\":\"1505.635\",\"liquidity\":2000}],\"closeoutBid\":\"1505.356\",\"closeoutAsk\":\"1505.635\",\"status\":\"tradeable\",\"tradeable\":true,\"instrument\":\"XAU_GBP\"}'\n",
      "b'{\"type\":\"PRICE\",\"time\":\"2023-07-10T12:11:17.743393946Z\",\"bids\":[{\"price\":\"1505.400\",\"liquidity\":2000}],\"asks\":[{\"price\":\"1505.679\",\"liquidity\":2000}],\"closeoutBid\":\"1505.400\",\"closeoutAsk\":\"1505.679\",\"status\":\"tradeable\",\"tradeable\":true,\"instrument\":\"XAU_GBP\"}'\n",
      "b'{\"type\":\"PRICE\",\"time\":\"2023-07-10T12:11:20.255323204Z\",\"bids\":[{\"price\":\"1505.328\",\"liquidity\":2000}],\"asks\":[{\"price\":\"1505.607\",\"liquidity\":2000}],\"closeoutBid\":\"1505.328\",\"closeoutAsk\":\"1505.607\",\"status\":\"tradeable\",\"tradeable\":true,\"instrument\":\"XAU_GBP\"}'\n",
      "b'{\"type\":\"HEARTBEAT\",\"time\":\"2023-07-10T12:11:21.861415229Z\"}'\n",
      "b'{\"type\":\"HEARTBEAT\",\"time\":\"2023-07-10T12:11:26.861444871Z\"}'\n",
      "b'{\"type\":\"PRICE\",\"time\":\"2023-07-10T12:11:27.055965326Z\",\"bids\":[{\"price\":\"1505.298\",\"liquidity\":2000}],\"asks\":[{\"price\":\"1505.577\",\"liquidity\":2000}],\"closeoutBid\":\"1505.298\",\"closeoutAsk\":\"1505.577\",\"status\":\"tradeable\",\"tradeable\":true,\"instrument\":\"XAU_GBP\"}'\n",
      "b'{\"type\":\"PRICE\",\"time\":\"2023-07-10T12:11:28.968632144Z\",\"bids\":[{\"price\":\"1505.334\",\"liquidity\":2000}],\"asks\":[{\"price\":\"1505.613\",\"liquidity\":2000}],\"closeoutBid\":\"1505.334\",\"closeoutAsk\":\"1505.613\",\"status\":\"tradeable\",\"tradeable\":true,\"instrument\":\"XAU_GBP\"}'\n",
      "b'{\"type\":\"PRICE\",\"time\":\"2023-07-10T12:11:30.771548034Z\",\"bids\":[{\"price\":\"1505.367\",\"liquidity\":2000}],\"asks\":[{\"price\":\"1505.646\",\"liquidity\":2000}],\"closeoutBid\":\"1505.367\",\"closeoutAsk\":\"1505.646\",\"status\":\"tradeable\",\"tradeable\":true,\"instrument\":\"XAU_GBP\"}'\n",
      "b'{\"type\":\"PRICE\",\"time\":\"2023-07-10T12:11:31.074335927Z\",\"bids\":[{\"price\":\"1505.332\",\"liquidity\":2000}],\"asks\":[{\"price\":\"1505.611\",\"liquidity\":2000}],\"closeoutBid\":\"1505.332\",\"closeoutAsk\":\"1505.611\",\"status\":\"tradeable\",\"tradeable\":true,\"instrument\":\"XAU_GBP\"}'\n",
      "b'{\"type\":\"HEARTBEAT\",\"time\":\"2023-07-10T12:11:31.861909529Z\"}'\n",
      "b'{\"type\":\"PRICE\",\"time\":\"2023-07-10T12:11:31.832143682Z\",\"bids\":[{\"price\":\"1505.302\",\"liquidity\":2000}],\"asks\":[{\"price\":\"1505.581\",\"liquidity\":2000}],\"closeoutBid\":\"1505.302\",\"closeoutAsk\":\"1505.581\",\"status\":\"tradeable\",\"tradeable\":true,\"instrument\":\"XAU_GBP\"}'\n",
      "b'{\"type\":\"PRICE\",\"time\":\"2023-07-10T12:11:34.997000641Z\",\"bids\":[{\"price\":\"1505.257\",\"liquidity\":2000}],\"asks\":[{\"price\":\"1505.536\",\"liquidity\":2000}],\"closeoutBid\":\"1505.257\",\"closeoutAsk\":\"1505.536\",\"status\":\"tradeable\",\"tradeable\":true,\"instrument\":\"XAU_GBP\"}'\n",
      "b'{\"type\":\"PRICE\",\"time\":\"2023-07-10T12:11:35.333225715Z\",\"bids\":[{\"price\":\"1505.301\",\"liquidity\":2000}],\"asks\":[{\"price\":\"1505.580\",\"liquidity\":2000}],\"closeoutBid\":\"1505.301\",\"closeoutAsk\":\"1505.580\",\"status\":\"tradeable\",\"tradeable\":true,\"instrument\":\"XAU_GBP\"}'\n",
      "b'{\"type\":\"PRICE\",\"time\":\"2023-07-10T12:11:36.105286728Z\",\"bids\":[{\"price\":\"1505.253\",\"liquidity\":2000}],\"asks\":[{\"price\":\"1505.532\",\"liquidity\":2000}],\"closeoutBid\":\"1505.253\",\"closeoutAsk\":\"1505.532\",\"status\":\"tradeable\",\"tradeable\":true,\"instrument\":\"XAU_GBP\"}'\n",
      "b'{\"type\":\"HEARTBEAT\",\"time\":\"2023-07-10T12:11:36.862303931Z\"}'\n",
      "b'{\"type\":\"HEARTBEAT\",\"time\":\"2023-07-10T12:11:41.862478660Z\"}'\n",
      "b'{\"type\":\"HEARTBEAT\",\"time\":\"2023-07-10T12:11:46.862799075Z\"}'\n",
      "b'{\"type\":\"PRICE\",\"time\":\"2023-07-10T12:11:49.326706287Z\",\"bids\":[{\"price\":\"1505.289\",\"liquidity\":2000}],\"asks\":[{\"price\":\"1505.568\",\"liquidity\":2000}],\"closeoutBid\":\"1505.289\",\"closeoutAsk\":\"1505.568\",\"status\":\"tradeable\",\"tradeable\":true,\"instrument\":\"XAU_GBP\"}'\n",
      "b'{\"type\":\"HEARTBEAT\",\"time\":\"2023-07-10T12:11:51.863162995Z\"}'\n",
      "b'{\"type\":\"PRICE\",\"time\":\"2023-07-10T12:11:51.989691771Z\",\"bids\":[{\"price\":\"1505.257\",\"liquidity\":2000}],\"asks\":[{\"price\":\"1505.536\",\"liquidity\":2000}],\"closeoutBid\":\"1505.257\",\"closeoutAsk\":\"1505.536\",\"status\":\"tradeable\",\"tradeable\":true,\"instrument\":\"XAU_GBP\"}'\n",
      "b'{\"type\":\"PRICE\",\"time\":\"2023-07-10T12:11:52.361417747Z\",\"bids\":[{\"price\":\"1505.228\",\"liquidity\":2000}],\"asks\":[{\"price\":\"1505.507\",\"liquidity\":2000}],\"closeoutBid\":\"1505.228\",\"closeoutAsk\":\"1505.507\",\"status\":\"tradeable\",\"tradeable\":true,\"instrument\":\"XAU_GBP\"}'\n",
      "b'{\"type\":\"HEARTBEAT\",\"time\":\"2023-07-10T12:11:56.863391907Z\"}'\n",
      "b'{\"type\":\"PRICE\",\"time\":\"2023-07-10T12:11:59.321162290Z\",\"bids\":[{\"price\":\"1505.254\",\"liquidity\":2000}],\"asks\":[{\"price\":\"1505.533\",\"liquidity\":2000}],\"closeoutBid\":\"1505.254\",\"closeoutAsk\":\"1505.533\",\"status\":\"tradeable\",\"tradeable\":true,\"instrument\":\"XAU_GBP\"}'\n",
      "b'{\"type\":\"PRICE\",\"time\":\"2023-07-10T12:12:00.079627121Z\",\"bids\":[{\"price\":\"1505.226\",\"liquidity\":2000}],\"asks\":[{\"price\":\"1505.505\",\"liquidity\":2000}],\"closeoutBid\":\"1505.226\",\"closeoutAsk\":\"1505.505\",\"status\":\"tradeable\",\"tradeable\":true,\"instrument\":\"XAU_GBP\"}'\n",
      "b'{\"type\":\"HEARTBEAT\",\"time\":\"2023-07-10T12:12:01.868164322Z\"}'\n",
      "b'{\"type\":\"PRICE\",\"time\":\"2023-07-10T12:12:03.716226483Z\",\"bids\":[{\"price\":\"1505.199\",\"liquidity\":2000}],\"asks\":[{\"price\":\"1505.478\",\"liquidity\":2000}],\"closeoutBid\":\"1505.199\",\"closeoutAsk\":\"1505.478\",\"status\":\"tradeable\",\"tradeable\":true,\"instrument\":\"XAU_GBP\"}'\n",
      "b'{\"type\":\"PRICE\",\"time\":\"2023-07-10T12:12:05.718246756Z\",\"bids\":[{\"price\":\"1505.254\",\"liquidity\":2000}],\"asks\":[{\"price\":\"1505.533\",\"liquidity\":2000}],\"closeoutBid\":\"1505.254\",\"closeoutAsk\":\"1505.533\",\"status\":\"tradeable\",\"tradeable\":true,\"instrument\":\"XAU_GBP\"}'\n",
      "b'{\"type\":\"HEARTBEAT\",\"time\":\"2023-07-10T12:12:06.871772683Z\"}'\n",
      "b'{\"type\":\"PRICE\",\"time\":\"2023-07-10T12:12:09.350805484Z\",\"bids\":[{\"price\":\"1505.287\",\"liquidity\":2000}],\"asks\":[{\"price\":\"1505.566\",\"liquidity\":2000}],\"closeoutBid\":\"1505.287\",\"closeoutAsk\":\"1505.566\",\"status\":\"tradeable\",\"tradeable\":true,\"instrument\":\"XAU_GBP\"}'\n",
      "b'{\"type\":\"PRICE\",\"time\":\"2023-07-10T12:12:10.094732208Z\",\"bids\":[{\"price\":\"1505.248\",\"liquidity\":2000}],\"asks\":[{\"price\":\"1505.527\",\"liquidity\":2000}],\"closeoutBid\":\"1505.248\",\"closeoutAsk\":\"1505.527\",\"status\":\"tradeable\",\"tradeable\":true,\"instrument\":\"XAU_GBP\"}'\n",
      "b'{\"type\":\"HEARTBEAT\",\"time\":\"2023-07-10T12:12:12.114484384Z\"}'\n",
      "b'{\"type\":\"PRICE\",\"time\":\"2023-07-10T12:12:12.650803175Z\",\"bids\":[{\"price\":\"1505.222\",\"liquidity\":2000}],\"asks\":[{\"price\":\"1505.501\",\"liquidity\":2000}],\"closeoutBid\":\"1505.222\",\"closeoutAsk\":\"1505.501\",\"status\":\"tradeable\",\"tradeable\":true,\"instrument\":\"XAU_GBP\"}'\n",
      "b'{\"type\":\"PRICE\",\"time\":\"2023-07-10T12:12:13.492682186Z\",\"bids\":[{\"price\":\"1505.258\",\"liquidity\":2000}],\"asks\":[{\"price\":\"1505.537\",\"liquidity\":2000}],\"closeoutBid\":\"1505.258\",\"closeoutAsk\":\"1505.537\",\"status\":\"tradeable\",\"tradeable\":true,\"instrument\":\"XAU_GBP\"}'\n",
      "b'{\"type\":\"PRICE\",\"time\":\"2023-07-10T12:12:16.146765553Z\",\"bids\":[{\"price\":\"1505.211\",\"liquidity\":2000}],\"asks\":[{\"price\":\"1505.490\",\"liquidity\":2000}],\"closeoutBid\":\"1505.211\",\"closeoutAsk\":\"1505.490\",\"status\":\"tradeable\",\"tradeable\":true,\"instrument\":\"XAU_GBP\"}'\n",
      "b'{\"type\":\"PRICE\",\"time\":\"2023-07-10T12:12:16.225349188Z\",\"bids\":[{\"price\":\"1505.181\",\"liquidity\":2000}],\"asks\":[{\"price\":\"1505.460\",\"liquidity\":2000}],\"closeoutBid\":\"1505.181\",\"closeoutAsk\":\"1505.460\",\"status\":\"tradeable\",\"tradeable\":true,\"instrument\":\"XAU_GBP\"}'\n",
      "b'{\"type\":\"HEARTBEAT\",\"time\":\"2023-07-10T12:12:17.117301046Z\"}'\n",
      "b'{\"type\":\"PRICE\",\"time\":\"2023-07-10T12:12:21.181031699Z\",\"bids\":[{\"price\":\"1505.238\",\"liquidity\":2000}],\"asks\":[{\"price\":\"1505.517\",\"liquidity\":2000}],\"closeoutBid\":\"1505.238\",\"closeoutAsk\":\"1505.517\",\"status\":\"tradeable\",\"tradeable\":true,\"instrument\":\"XAU_GBP\"}'\n",
      "b'{\"type\":\"HEARTBEAT\",\"time\":\"2023-07-10T12:12:22.117655444Z\"}'\n",
      "b'{\"type\":\"PRICE\",\"time\":\"2023-07-10T12:12:24.860287085Z\",\"bids\":[{\"price\":\"1505.187\",\"liquidity\":2000}],\"asks\":[{\"price\":\"1505.466\",\"liquidity\":2000}],\"closeoutBid\":\"1505.187\",\"closeoutAsk\":\"1505.466\",\"status\":\"tradeable\",\"tradeable\":true,\"instrument\":\"XAU_GBP\"}'\n",
      "b'{\"type\":\"HEARTBEAT\",\"time\":\"2023-07-10T12:12:27.365720505Z\"}'\n",
      "b'{\"type\":\"PRICE\",\"time\":\"2023-07-10T12:12:28.043962793Z\",\"bids\":[{\"price\":\"1505.146\",\"liquidity\":2000}],\"asks\":[{\"price\":\"1505.425\",\"liquidity\":2000}],\"closeoutBid\":\"1505.146\",\"closeoutAsk\":\"1505.425\",\"status\":\"tradeable\",\"tradeable\":true,\"instrument\":\"XAU_GBP\"}'\n",
      "b'{\"type\":\"HEARTBEAT\",\"time\":\"2023-07-10T12:12:32.365818262Z\"}'\n",
      "b'{\"type\":\"HEARTBEAT\",\"time\":\"2023-07-10T12:12:37.366087487Z\"}'\n",
      "b'{\"type\":\"HEARTBEAT\",\"time\":\"2023-07-10T12:12:42.379244476Z\"}'\n",
      "b'{\"type\":\"HEARTBEAT\",\"time\":\"2023-07-10T12:12:47.620761363Z\"}'\n",
      "b'{\"type\":\"PRICE\",\"time\":\"2023-07-10T12:12:50.524477550Z\",\"bids\":[{\"price\":\"1505.099\",\"liquidity\":2000}],\"asks\":[{\"price\":\"1505.378\",\"liquidity\":2000}],\"closeoutBid\":\"1505.099\",\"closeoutAsk\":\"1505.378\",\"status\":\"tradeable\",\"tradeable\":true,\"instrument\":\"XAU_GBP\"}'\n",
      "b'{\"type\":\"PRICE\",\"time\":\"2023-07-10T12:12:50.789629904Z\",\"bids\":[{\"price\":\"1505.106\",\"liquidity\":2000}],\"asks\":[{\"price\":\"1505.385\",\"liquidity\":2000}],\"closeoutBid\":\"1505.106\",\"closeoutAsk\":\"1505.385\",\"status\":\"tradeable\",\"tradeable\":true,\"instrument\":\"XAU_GBP\"}'\n",
      "b'{\"type\":\"HEARTBEAT\",\"time\":\"2023-07-10T12:12:52.867390003Z\"}'\n",
      "b'{\"type\":\"PRICE\",\"time\":\"2023-07-10T12:12:53.004896040Z\",\"bids\":[{\"price\":\"1505.075\",\"liquidity\":2000}],\"asks\":[{\"price\":\"1505.354\",\"liquidity\":2000}],\"closeoutBid\":\"1505.075\",\"closeoutAsk\":\"1505.354\",\"status\":\"tradeable\",\"tradeable\":true,\"instrument\":\"XAU_GBP\"}'\n",
      "b'{\"type\":\"PRICE\",\"time\":\"2023-07-10T12:12:53.298129936Z\",\"bids\":[{\"price\":\"1505.075\",\"liquidity\":2000}],\"asks\":[{\"price\":\"1505.354\",\"liquidity\":2000}],\"closeoutBid\":\"1505.075\",\"closeoutAsk\":\"1505.354\",\"status\":\"tradeable\",\"tradeable\":true,\"instrument\":\"XAU_GBP\"}'\n",
      "b'{\"type\":\"HEARTBEAT\",\"time\":\"2023-07-10T12:12:57.867428435Z\"}'\n"
     ]
    },
    {
     "ename": "KeyboardInterrupt",
     "evalue": "",
     "output_type": "error",
     "traceback": [
      "\u001b[1;31m---------------------------------------------------------------------------\u001b[0m",
      "\u001b[1;31mKeyboardInterrupt\u001b[0m                         Traceback (most recent call last)",
      "Cell \u001b[1;32mIn[100], line 11\u001b[0m\n\u001b[0;32m      6\u001b[0m stream_api\n\u001b[0;32m      9\u001b[0m response \u001b[39m=\u001b[39m stream_api\u001b[39m.\u001b[39mpricing\u001b[39m.\u001b[39mstream(accountID\u001b[39m=\u001b[39mACCOUNT_ID, instruments\u001b[39m=\u001b[39m\u001b[39m\"\u001b[39m\u001b[39mXAU_GBP\u001b[39m\u001b[39m\"\u001b[39m, snapshot\u001b[39m=\u001b[39m\u001b[39mTrue\u001b[39;00m)\n\u001b[1;32m---> 11\u001b[0m \u001b[39mfor\u001b[39;00m price_data \u001b[39min\u001b[39;00m response\u001b[39m.\u001b[39mlines:\n\u001b[0;32m     12\u001b[0m     \u001b[39mprint\u001b[39m(price_data)\n",
      "File \u001b[1;32m~\\AppData\\Roaming\\Python\\Python310\\site-packages\\requests\\models.py:865\u001b[0m, in \u001b[0;36mResponse.iter_lines\u001b[1;34m(self, chunk_size, decode_unicode, delimiter)\u001b[0m\n\u001b[0;32m    856\u001b[0m \u001b[39m\u001b[39m\u001b[39m\"\"\"Iterates over the response data, one line at a time.  When\u001b[39;00m\n\u001b[0;32m    857\u001b[0m \u001b[39mstream=True is set on the request, this avoids reading the\u001b[39;00m\n\u001b[0;32m    858\u001b[0m \u001b[39mcontent at once into memory for large responses.\u001b[39;00m\n\u001b[0;32m    859\u001b[0m \n\u001b[0;32m    860\u001b[0m \u001b[39m.. note:: This method is not reentrant safe.\u001b[39;00m\n\u001b[0;32m    861\u001b[0m \u001b[39m\"\"\"\u001b[39;00m\n\u001b[0;32m    863\u001b[0m pending \u001b[39m=\u001b[39m \u001b[39mNone\u001b[39;00m\n\u001b[1;32m--> 865\u001b[0m \u001b[39mfor\u001b[39;00m chunk \u001b[39min\u001b[39;00m \u001b[39mself\u001b[39m\u001b[39m.\u001b[39miter_content(\n\u001b[0;32m    866\u001b[0m     chunk_size\u001b[39m=\u001b[39mchunk_size, decode_unicode\u001b[39m=\u001b[39mdecode_unicode\n\u001b[0;32m    867\u001b[0m ):\n\u001b[0;32m    869\u001b[0m     \u001b[39mif\u001b[39;00m pending \u001b[39mis\u001b[39;00m \u001b[39mnot\u001b[39;00m \u001b[39mNone\u001b[39;00m:\n\u001b[0;32m    870\u001b[0m         chunk \u001b[39m=\u001b[39m pending \u001b[39m+\u001b[39m chunk\n",
      "File \u001b[1;32m~\\AppData\\Roaming\\Python\\Python310\\site-packages\\requests\\models.py:816\u001b[0m, in \u001b[0;36mResponse.iter_content.<locals>.generate\u001b[1;34m()\u001b[0m\n\u001b[0;32m    814\u001b[0m \u001b[39mif\u001b[39;00m \u001b[39mhasattr\u001b[39m(\u001b[39mself\u001b[39m\u001b[39m.\u001b[39mraw, \u001b[39m\"\u001b[39m\u001b[39mstream\u001b[39m\u001b[39m\"\u001b[39m):\n\u001b[0;32m    815\u001b[0m     \u001b[39mtry\u001b[39;00m:\n\u001b[1;32m--> 816\u001b[0m         \u001b[39myield from\u001b[39;00m \u001b[39mself\u001b[39m\u001b[39m.\u001b[39mraw\u001b[39m.\u001b[39mstream(chunk_size, decode_content\u001b[39m=\u001b[39m\u001b[39mTrue\u001b[39;00m)\n\u001b[0;32m    817\u001b[0m     \u001b[39mexcept\u001b[39;00m ProtocolError \u001b[39mas\u001b[39;00m e:\n\u001b[0;32m    818\u001b[0m         \u001b[39mraise\u001b[39;00m ChunkedEncodingError(e)\n",
      "File \u001b[1;32m~\\AppData\\Roaming\\Python\\Python310\\site-packages\\urllib3\\response.py:624\u001b[0m, in \u001b[0;36mHTTPResponse.stream\u001b[1;34m(self, amt, decode_content)\u001b[0m\n\u001b[0;32m    608\u001b[0m \u001b[39m\u001b[39m\u001b[39m\"\"\"\u001b[39;00m\n\u001b[0;32m    609\u001b[0m \u001b[39mA generator wrapper for the read() method. A call will block until\u001b[39;00m\n\u001b[0;32m    610\u001b[0m \u001b[39m``amt`` bytes have been read from the connection or until the\u001b[39;00m\n\u001b[1;32m   (...)\u001b[0m\n\u001b[0;32m    621\u001b[0m \u001b[39m    'content-encoding' header.\u001b[39;00m\n\u001b[0;32m    622\u001b[0m \u001b[39m\"\"\"\u001b[39;00m\n\u001b[0;32m    623\u001b[0m \u001b[39mif\u001b[39;00m \u001b[39mself\u001b[39m\u001b[39m.\u001b[39mchunked \u001b[39mand\u001b[39;00m \u001b[39mself\u001b[39m\u001b[39m.\u001b[39msupports_chunked_reads():\n\u001b[1;32m--> 624\u001b[0m     \u001b[39mfor\u001b[39;00m line \u001b[39min\u001b[39;00m \u001b[39mself\u001b[39m\u001b[39m.\u001b[39mread_chunked(amt, decode_content\u001b[39m=\u001b[39mdecode_content):\n\u001b[0;32m    625\u001b[0m         \u001b[39myield\u001b[39;00m line\n\u001b[0;32m    626\u001b[0m \u001b[39melse\u001b[39;00m:\n",
      "File \u001b[1;32m~\\AppData\\Roaming\\Python\\Python310\\site-packages\\urllib3\\response.py:828\u001b[0m, in \u001b[0;36mHTTPResponse.read_chunked\u001b[1;34m(self, amt, decode_content)\u001b[0m\n\u001b[0;32m    825\u001b[0m     \u001b[39mreturn\u001b[39;00m\n\u001b[0;32m    827\u001b[0m \u001b[39mwhile\u001b[39;00m \u001b[39mTrue\u001b[39;00m:\n\u001b[1;32m--> 828\u001b[0m     \u001b[39mself\u001b[39;49m\u001b[39m.\u001b[39;49m_update_chunk_length()\n\u001b[0;32m    829\u001b[0m     \u001b[39mif\u001b[39;00m \u001b[39mself\u001b[39m\u001b[39m.\u001b[39mchunk_left \u001b[39m==\u001b[39m \u001b[39m0\u001b[39m:\n\u001b[0;32m    830\u001b[0m         \u001b[39mbreak\u001b[39;00m\n",
      "File \u001b[1;32m~\\AppData\\Roaming\\Python\\Python310\\site-packages\\urllib3\\response.py:758\u001b[0m, in \u001b[0;36mHTTPResponse._update_chunk_length\u001b[1;34m(self)\u001b[0m\n\u001b[0;32m    756\u001b[0m \u001b[39mif\u001b[39;00m \u001b[39mself\u001b[39m\u001b[39m.\u001b[39mchunk_left \u001b[39mis\u001b[39;00m \u001b[39mnot\u001b[39;00m \u001b[39mNone\u001b[39;00m:\n\u001b[0;32m    757\u001b[0m     \u001b[39mreturn\u001b[39;00m\n\u001b[1;32m--> 758\u001b[0m line \u001b[39m=\u001b[39m \u001b[39mself\u001b[39;49m\u001b[39m.\u001b[39;49m_fp\u001b[39m.\u001b[39;49mfp\u001b[39m.\u001b[39;49mreadline()\n\u001b[0;32m    759\u001b[0m line \u001b[39m=\u001b[39m line\u001b[39m.\u001b[39msplit(\u001b[39mb\u001b[39m\u001b[39m\"\u001b[39m\u001b[39m;\u001b[39m\u001b[39m\"\u001b[39m, \u001b[39m1\u001b[39m)[\u001b[39m0\u001b[39m]\n\u001b[0;32m    760\u001b[0m \u001b[39mtry\u001b[39;00m:\n",
      "File \u001b[1;32mc:\\Users\\smith\\Downloads\\Software\\envs\\introtoai\\lib\\socket.py:705\u001b[0m, in \u001b[0;36mSocketIO.readinto\u001b[1;34m(self, b)\u001b[0m\n\u001b[0;32m    703\u001b[0m \u001b[39mwhile\u001b[39;00m \u001b[39mTrue\u001b[39;00m:\n\u001b[0;32m    704\u001b[0m     \u001b[39mtry\u001b[39;00m:\n\u001b[1;32m--> 705\u001b[0m         \u001b[39mreturn\u001b[39;00m \u001b[39mself\u001b[39;49m\u001b[39m.\u001b[39;49m_sock\u001b[39m.\u001b[39;49mrecv_into(b)\n\u001b[0;32m    706\u001b[0m     \u001b[39mexcept\u001b[39;00m timeout:\n\u001b[0;32m    707\u001b[0m         \u001b[39mself\u001b[39m\u001b[39m.\u001b[39m_timeout_occurred \u001b[39m=\u001b[39m \u001b[39mTrue\u001b[39;00m\n",
      "File \u001b[1;32mc:\\Users\\smith\\Downloads\\Software\\envs\\introtoai\\lib\\ssl.py:1273\u001b[0m, in \u001b[0;36mSSLSocket.recv_into\u001b[1;34m(self, buffer, nbytes, flags)\u001b[0m\n\u001b[0;32m   1269\u001b[0m     \u001b[39mif\u001b[39;00m flags \u001b[39m!=\u001b[39m \u001b[39m0\u001b[39m:\n\u001b[0;32m   1270\u001b[0m         \u001b[39mraise\u001b[39;00m \u001b[39mValueError\u001b[39;00m(\n\u001b[0;32m   1271\u001b[0m           \u001b[39m\"\u001b[39m\u001b[39mnon-zero flags not allowed in calls to recv_into() on \u001b[39m\u001b[39m%s\u001b[39;00m\u001b[39m\"\u001b[39m \u001b[39m%\u001b[39m\n\u001b[0;32m   1272\u001b[0m           \u001b[39mself\u001b[39m\u001b[39m.\u001b[39m\u001b[39m__class__\u001b[39m)\n\u001b[1;32m-> 1273\u001b[0m     \u001b[39mreturn\u001b[39;00m \u001b[39mself\u001b[39;49m\u001b[39m.\u001b[39;49mread(nbytes, buffer)\n\u001b[0;32m   1274\u001b[0m \u001b[39melse\u001b[39;00m:\n\u001b[0;32m   1275\u001b[0m     \u001b[39mreturn\u001b[39;00m \u001b[39msuper\u001b[39m()\u001b[39m.\u001b[39mrecv_into(buffer, nbytes, flags)\n",
      "File \u001b[1;32mc:\\Users\\smith\\Downloads\\Software\\envs\\introtoai\\lib\\ssl.py:1129\u001b[0m, in \u001b[0;36mSSLSocket.read\u001b[1;34m(self, len, buffer)\u001b[0m\n\u001b[0;32m   1127\u001b[0m \u001b[39mtry\u001b[39;00m:\n\u001b[0;32m   1128\u001b[0m     \u001b[39mif\u001b[39;00m buffer \u001b[39mis\u001b[39;00m \u001b[39mnot\u001b[39;00m \u001b[39mNone\u001b[39;00m:\n\u001b[1;32m-> 1129\u001b[0m         \u001b[39mreturn\u001b[39;00m \u001b[39mself\u001b[39;49m\u001b[39m.\u001b[39;49m_sslobj\u001b[39m.\u001b[39;49mread(\u001b[39mlen\u001b[39;49m, buffer)\n\u001b[0;32m   1130\u001b[0m     \u001b[39melse\u001b[39;00m:\n\u001b[0;32m   1131\u001b[0m         \u001b[39mreturn\u001b[39;00m \u001b[39mself\u001b[39m\u001b[39m.\u001b[39m_sslobj\u001b[39m.\u001b[39mread(\u001b[39mlen\u001b[39m)\n",
      "\u001b[1;31mKeyboardInterrupt\u001b[0m: "
     ]
    }
   ],
   "source": [
    "# Stream the prcing infomation\n",
    "\n",
    "import v20\n",
    "\n",
    "stream_api = v20.Context(hostname=STREAM_API, port=443, token=ACCESS_TOKEN)\n",
    "stream_api\n",
    "\n",
    "\n",
    "response = stream_api.pricing.stream(accountID=ACCOUNT_ID, instruments=\"XAU_GBP\", snapshot=True)\n",
    "\n",
    "for price_data in response.lines:\n",
    "    print(price_data)\n",
    "\n"
   ]
  },
  {
   "cell_type": "code",
   "execution_count": 166,
   "metadata": {},
   "outputs": [
    {
     "ename": "NameError",
     "evalue": "name 'dfstream' is not defined",
     "output_type": "error",
     "traceback": [
      "\u001b[1;31m---------------------------------------------------------------------------\u001b[0m",
      "\u001b[1;31mNameError\u001b[0m                                 Traceback (most recent call last)",
      "Cell \u001b[1;32mIn[166], line 12\u001b[0m\n\u001b[0;32m      9\u001b[0m client \u001b[39m=\u001b[39m API(access_token\u001b[39m=\u001b[39mACCESS_TOKEN)\n\u001b[0;32m     11\u001b[0m SLTPRatio \u001b[39m=\u001b[39m \u001b[39m2\u001b[39m\n\u001b[1;32m---> 12\u001b[0m previous_candleR \u001b[39m=\u001b[39m \u001b[39mabs\u001b[39m(dfstream[\u001b[39m'\u001b[39m\u001b[39mOpen\u001b[39m\u001b[39m'\u001b[39m]\u001b[39m.\u001b[39miloc[\u001b[39m-\u001b[39m\u001b[39m2\u001b[39m]\u001b[39m-\u001b[39mdfstream[\u001b[39m'\u001b[39m\u001b[39mClose\u001b[39m\u001b[39m'\u001b[39m]\u001b[39m.\u001b[39miloc[\u001b[39m-\u001b[39m\u001b[39m2\u001b[39m])\n\u001b[0;32m     14\u001b[0m SLBuy \u001b[39m=\u001b[39m \u001b[39mfloat\u001b[39m(\u001b[39mstr\u001b[39m(candle\u001b[39m.\u001b[39mbid\u001b[39m.\u001b[39mo \u001b[39m-\u001b[39m previous_candleR))\n\u001b[0;32m     15\u001b[0m SLSell \u001b[39m=\u001b[39m \u001b[39mfloat\u001b[39m(\u001b[39mstr\u001b[39m(candle\u001b[39m.\u001b[39mbid\u001b[39m.\u001b[39mo \u001b[39m+\u001b[39m previous_candleR))\n",
      "\u001b[1;31mNameError\u001b[0m: name 'dfstream' is not defined"
     ]
    }
   ],
   "source": [
    "from oandapyV20 import API\n",
    "import oandapyV20.endpoints.orders as orders\n",
    "from oandapyV20.contrib.requests import MarketOrderRequest\n",
    "from oandapyV20.contrib.requests import TakeProfitDetails, StopLossDetails\n",
    "\n",
    "\n",
    "# Executing Orders\n",
    "\n",
    "client = API(access_token=ACCESS_TOKEN)\n",
    "\n",
    "SLTPRatio = 2\n",
    "previous_candleR = abs(dfstream['Open'].iloc[-2]-dfstream['Close'].iloc[-2])\n",
    "\n",
    "SLBuy = float(str(candle.bid.o - previous_candleR))\n",
    "SLSell = float(str(candle.bid.o + previous_candleR))\n",
    "\n",
    "TPBuy = float(str(candle.bid.o + (previous_candleR * SLTPRatio)))\n",
    "TPSell = float(str(candle.bid.o - (previous_candleR * SLTPRatio)))\n",
    "\n",
    "print(dfstream.iloc[:-1,:])\n",
    "print(TPBuy, \" \", SLBuy, \" \", TPSell, \" \", SLSell)\n",
    "\n",
    "#Sell\n",
    "if signal ==1:\n",
    "    mo = MarketOrderRequest(instrument=\"XAU_GBP\", units=-1000, takeProfitOnFill=TakeProfitDetails(price=TPSell).data, stopLossOnFill=StopLossDetails(price=SLSell).data)\n",
    "    r = orders.OrderCreate(accountID=ACCOUNT_ID, data=mo.data)\n",
    "    rv = client.request(r)\n",
    "    print(rv)\n",
    "\n",
    "#Buy\n",
    "if signal ==2:\n",
    "    mo = MarketOrderRequest(instrument=\"XAU_GBP\", units=1000, takeProfitOnFill=TakeProfitDetails(price=TPBuy).data, stopLossOnFill=StopLossDetails(price=SLBuy).data)\n",
    "    r = orders.OrderCreate(accountID=ACCOUNT_ID, data=mo.data)\n",
    "    rv = client.request(r)\n",
    "    print(rv)"
   ]
  },
  {
   "cell_type": "code",
   "execution_count": 167,
   "metadata": {},
   "outputs": [
    {
     "ename": "NameError",
     "evalue": "name 'trading_job' is not defined",
     "output_type": "error",
     "traceback": [
      "\u001b[1;31m---------------------------------------------------------------------------\u001b[0m",
      "\u001b[1;31mNameError\u001b[0m                                 Traceback (most recent call last)",
      "Cell \u001b[1;32mIn[167], line 2\u001b[0m\n\u001b[0;32m      1\u001b[0m scheduler \u001b[39m=\u001b[39m BlockingScheduler()\n\u001b[1;32m----> 2\u001b[0m scheduler\u001b[39m.\u001b[39madd_job(trading_job, \u001b[39m'\u001b[39m\u001b[39mcron\u001b[39m\u001b[39m'\u001b[39m, day_of_week\u001b[39m=\u001b[39m\u001b[39m'\u001b[39m\u001b[39mmon-fri\u001b[39m\u001b[39m'\u001b[39m, hour\u001b[39m=\u001b[39m\u001b[39m8\u001b[39m, minute\u001b[39m=\u001b[39m\u001b[39m30\u001b[39m, timezone\u001b[39m=\u001b[39m\u001b[39m'\u001b[39m\u001b[39mEurope/London\u001b[39m\u001b[39m'\u001b[39m)\n\u001b[0;32m      3\u001b[0m scheduler\u001b[39m.\u001b[39mstart()\n",
      "\u001b[1;31mNameError\u001b[0m: name 'trading_job' is not defined"
     ]
    }
   ],
   "source": [
    "scheduler = BlockingScheduler()\n",
    "scheduler.add_job(trading_job, 'cron', day_of_week='mon-fri', hour=8, minute=30, timezone='Europe/London')\n",
    "scheduler.start()"
   ]
  }
 ],
 "metadata": {
  "kernelspec": {
   "display_name": "introtoai",
   "language": "python",
   "name": "python3"
  },
  "language_info": {
   "codemirror_mode": {
    "name": "ipython",
    "version": 3
   },
   "file_extension": ".py",
   "mimetype": "text/x-python",
   "name": "python",
   "nbconvert_exporter": "python",
   "pygments_lexer": "ipython3",
   "version": "3.10.4"
  },
  "orig_nbformat": 4
 },
 "nbformat": 4,
 "nbformat_minor": 2
}

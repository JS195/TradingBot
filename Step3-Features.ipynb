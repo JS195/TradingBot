{
 "cells": [
  {
   "cell_type": "code",
   "execution_count": 157,
   "metadata": {},
   "outputs": [
    {
     "name": "stdout",
     "output_type": "stream",
     "text": [
      "[*********************100%***********************]  1 of 1 completed\n"
     ]
    }
   ],
   "source": [
    "import yfinance as yf\n",
    "import pandas as pd\n",
    "import numpy as np\n",
    "\n",
    "df = yf.download(\"EURGBP=X\", start=\"2021-07-09\", end=\"2023-07-09\", interval=\"1d\")"
   ]
  },
  {
   "cell_type": "code",
   "execution_count": 42,
   "metadata": {},
   "outputs": [],
   "source": [
    "# Relative strength index manually\n",
    "\n",
    "def rsi(df, periods = 14):\n",
    "    close_delta = df['Close'].diff()\n",
    "    up = close_delta.clip(lower=0)\n",
    "    down = -1 * close_delta.clip(upper=0)\n",
    "    ma_up = up.ewm(com = periods - 1, adjust=True, min_periods = periods).mean()\n",
    "    ma_down = down.ewm(com = periods - 1, adjust=True, min_periods = periods).mean()\n",
    "    rsi = ma_up / ma_down\n",
    "    rsi = 100 - (100/(1 + rsi))\n",
    "    return rsi\n",
    "\n",
    "# rsi_values = rsi(df, 14)"
   ]
  },
  {
   "cell_type": "code",
   "execution_count": 43,
   "metadata": {},
   "outputs": [],
   "source": [
    "# Commodity channel index\n",
    "\n",
    "def calculate_cci(dataframe, period=20):\n",
    "    typical_price = (dataframe['High'] + dataframe['Low'] + dataframe['Close']) / 3\n",
    "    mean_deviation = typical_price.rolling(window=period).apply(lambda x: np.fabs(x - x.mean()).mean(), raw=True)\n",
    "    cci = (typical_price - typical_price.rolling(window=period).mean()) / (0.015 * mean_deviation)\n",
    "    return cci\n",
    "\n",
    "#cci_values=calculate_cci(df, 20)"
   ]
  },
  {
   "cell_type": "code",
   "execution_count": 44,
   "metadata": {},
   "outputs": [],
   "source": [
    "# Average true range\n",
    "\n",
    "def calculate_atr(dataframe, period=14):\n",
    "    high = dataframe['High']\n",
    "    low = dataframe['Low']\n",
    "    close = dataframe['Close']\n",
    "    tr1 = high - low\n",
    "    tr2 = abs(high - close.shift())\n",
    "    tr3 = abs(low - close.shift())\n",
    "    tr = pd.concat([tr1, tr2, tr3], axis=1).max(axis=1)\n",
    "    atr = tr.ewm(span=period, adjust=False).mean()\n",
    "    return atr\n",
    "\n",
    "#atr_values=calculate_atr(df, 14)"
   ]
  },
  {
   "cell_type": "code",
   "execution_count": 158,
   "metadata": {},
   "outputs": [],
   "source": [
    "# Using pandas technical indicators lib\n",
    "\n",
    "import pandas_ta as ta\n",
    "\n",
    "# Relative strength index\n",
    "df[\"RSI\"] = ta.rsi(df.Close, length=16)\n",
    "\n",
    "# Commodity channel index\n",
    "df[\"CCI\"] = ta.cci(df.High, df.Low, df.Close, length=16)\n",
    "\n",
    "# Average true range\n",
    "df[\"ATR\"] = ta.atr(df.High, df.Low, df.Close, length=16)\n",
    "\n",
    "# Awesome Oscillator\n",
    "df[\"AO\"] = ta.ao(df.High, df.Low, length=16)\n",
    "\n",
    "# Momentum Indicator\n",
    "df[\"MOM\"] = ta.mom(df.Close, length=16)\n",
    "\n",
    "# Moving average convergence divergence \n",
    "macd = ta.macd(df.Close, length=16)\n",
    "df = df.join(macd)\n",
    "\n",
    "# Balance of Power\n",
    "df[\"BOP\"] = ta.bop(df.Open, df.High, df.Low, df.Close, Length=16)\n"
   ]
  },
  {
   "cell_type": "code",
   "execution_count": 136,
   "metadata": {},
   "outputs": [],
   "source": [
    "df.dropna(inplace=True)"
   ]
  },
  {
   "cell_type": "code",
   "execution_count": 159,
   "metadata": {},
   "outputs": [],
   "source": [
    "pipdiff = 200*1e-4\n",
    "\n",
    "SLTPRatio = 2\n",
    "\n",
    "def mytarget(barsupfront, df1):\n",
    "    length = len(df1)\n",
    "    high = list(df1['High'])\n",
    "    low = list(df1['Low'])\n",
    "    close = list(df1['Close'])\n",
    "    open = list(df1['Open'])\n",
    "    trendcat = [None]*length\n",
    "    for line in range (0, length-barsupfront-2):\n",
    "        valueOpenLow = 0\n",
    "        valueOpenHigh = 0\n",
    "        for i in range(1,barsupfront+2):\n",
    "            value1 = open[line+1]-low[line+i]\n",
    "            value2 = open[line+1]-high[line+i]\n",
    "            valueOpenLow = max(value1, valueOpenLow)\n",
    "            valueOpenHigh = min(value2, valueOpenHigh)\n",
    "            if ((valueOpenLow >= pipdiff) and (-valueOpenHigh <= (pipdiff/SLTPRatio))):\n",
    "                trendcat[line] = 1\n",
    "                break\n",
    "            elif ((valueOpenLow <= (pipdiff/SLTPRatio)) and (-valueOpenHigh >= pipdiff)):\n",
    "                trendcat[line] = 2\n",
    "                break\n",
    "            else:\n",
    "                trendcat[line] = 0\n",
    "    return trendcat"
   ]
  },
  {
   "cell_type": "code",
   "execution_count": null,
   "metadata": {},
   "outputs": [],
   "source": [
    "def signal_generator(df):\n",
    "    open = df.Open.iloc[-1]\n",
    "    close = df.Close.iloc[-1]\n",
    "    prev_open = df.Open.iloc[-2]\n",
    "    prev_close = df.Close.iloc[-2]\n",
    "\n",
    "    # Bearish\n",
    "    if (open > close and\n",
    "        prev_open < prev_close and\n",
    "        close<prev_open and\n",
    "        open>=prev_close):\n",
    "        return 1\n",
    "    \n",
    "    # Bullish\n",
    "    elif (open < close and\n",
    "        prev_open > prev_close and\n",
    "        close>prev_open and\n",
    "        open<=prev_close):\n",
    "        return 2\n",
    "    \n",
    "    # No clear pattern\n",
    "    else:\n",
    "        return 0"
   ]
  },
  {
   "cell_type": "code",
   "execution_count": 160,
   "metadata": {},
   "outputs": [
    {
     "data": {
      "text/plain": [
       "<Axes: >"
      ]
     },
     "execution_count": 160,
     "metadata": {},
     "output_type": "execute_result"
    },
    {
     "data": {
      "image/png": "[encoded data removed]",
      "text/plain": [
       "<Figure size 640x480 with 1 Axes>"
      ]
     },
     "metadata": {},
     "output_type": "display_data"
    }
   ],
   "source": [
    "df['Target'] = mytarget(60, df)\n",
    "df.dropna(inplace=True)\n",
    "\n",
    "df[\"Target\"].hist()"
   ]
  },
  {
   "cell_type": "code",
   "execution_count": 161,
   "metadata": {},
   "outputs": [
    {
     "name": "stdout",
     "output_type": "stream",
     "text": [
      "Accuracy on train set: 1.00\n",
      "Accuracy on test set: 0.31\n"
     ]
    }
   ],
   "source": [
    "from xgboost import XGBClassifier\n",
    "from sklearn.metrics import accuracy_score, log_loss\n",
    "from sklearn.model_selection import train_test_split\n",
    "\n",
    "\n",
    "attributes = [\"RSI\", \"CCI\", \"ATR\", \"AO\", \"MOM\", \"MACD_12_26_9\", \"MACDh_12_26_9\", \"MACDs_12_26_9\", \"BOP\"]\n",
    "\n",
    "X = df[attributes]\n",
    "y = df[\"Target\"]\n",
    "\n",
    "X_train, X_test, y_train, y_test = train_test_split(X, y, test_size=0.2, shuffle=False)\n",
    "\n",
    "model = XGBClassifier()\n",
    "model.fit(X_train, y_train)\n",
    "pred_train = model.predict(X_train)\n",
    "pred_test = model.predict(X_test)\n",
    "\n",
    "acc_train = accuracy_score(y_train, pred_train)\n",
    "acc_test = accuracy_score(y_test, pred_test)\n",
    "\n",
    "print(\"Accuracy on train set: {:.2f}\".format(acc_train))\n",
    "print(\"Accuracy on test set: {:.2f}\".format(acc_test))"
   ]
  }
 ],
 "metadata": {
  "kernelspec": {
   "display_name": "introtoai",
   "language": "python",
   "name": "python3"
  },
  "language_info": {
   "codemirror_mode": {
    "name": "ipython",
    "version": 3
   },
   "file_extension": ".py",
   "mimetype": "text/x-python",
   "name": "python",
   "nbconvert_exporter": "python",
   "pygments_lexer": "ipython3",
   "version": "3.10.4"
  },
  "orig_nbformat": 4
 },
 "nbformat": 4,
 "nbformat_minor": 2
}

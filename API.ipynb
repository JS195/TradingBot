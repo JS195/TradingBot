{
 "cells": [
  {
   "cell_type": "code",
   "execution_count": 11,
   "metadata": {},
   "outputs": [],
   "source": [
    "API = \"api-fxpractice.oanda.com\"\n",
    "STREAM_API = \"stream-fxpractice.oanda.com/\"\n",
    "ACCESS_TOKEN = \"06a31b21abc8fb4cbe9bbd8c5b7b1f4e-260aefea008b878b6bffbfebafc84b9f\"\n",
    "ACCOUNT_ID = \"101-004-26291813-001\""
   ]
  },
  {
   "cell_type": "code",
   "execution_count": 13,
   "metadata": {},
   "outputs": [
    {
     "name": "stdout",
     "output_type": "stream",
     "text": [
      "{'time': '2023-07-10T10:39:04.616852573Z', 'prices': [{'type': 'PRICE', 'time': '2023-07-10T10:39:04.530528432Z', 'bids': [{'price': '1503.365', 'liquidity': 2000}], 'asks': [{'price': '1503.643', 'liquidity': 2000}], 'closeoutBid': '1503.365', 'closeoutAsk': '1503.643', 'status': 'tradeable', 'tradeable': True, 'quoteHomeConversionFactors': {'positiveUnits': '1.00000000', 'negativeUnits': '1.00000000'}, 'instrument': 'XAU_GBP'}]}\n"
     ]
    }
   ],
   "source": [
    "import requests\n",
    "import json\n",
    "import pandas as pd\n",
    "import numpy as np\n",
    "\n",
    "PRICING_PATH = f\"/v3/accounts/{ACCOUNT_ID}/pricing\"\n",
    "\n",
    "# For the pricing path, pars are:\n",
    "# Authorization: \"Bearer \" + ACCESS_TOKEN\n",
    "# Accept-Datetime-Format: \"RFC3339\"\n",
    "# AccountID: ACCOUNT_ID\n",
    "# Instruments: \"EUR_USD,USD_CAD\"\n",
    "# Since: \"2016-01-01T00:00:00Z\"\n",
    "# IncludeUnitsAvailable: \"False\"\n",
    "# IncludeHomeConversions: \"False\"\n",
    "\n",
    "query = {\"instruments\": \"XAU_GBP\"}\n",
    "headers = {\"Authorization\": \"Bearer \" + ACCESS_TOKEN}\n",
    "response = requests.get(\"https://\" + API + PRICING_PATH, headers=headers, params=query)\n",
    "print(response.json())\n",
    "\n"
   ]
  }
 ],
 "metadata": {
  "kernelspec": {
   "display_name": "introtoai",
   "language": "python",
   "name": "python3"
  },
  "language_info": {
   "codemirror_mode": {
    "name": "ipython",
    "version": 3
   },
   "file_extension": ".py",
   "mimetype": "text/x-python",
   "name": "python",
   "nbconvert_exporter": "python",
   "pygments_lexer": "ipython3",
   "version": "3.10.4"
  },
  "orig_nbformat": 4
 },
 "nbformat": 4,
 "nbformat_minor": 2
}
